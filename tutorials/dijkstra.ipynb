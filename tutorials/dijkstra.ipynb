{
 "cells": [
  {
   "cell_type": "code",
   "execution_count": 1,
   "id": "9cb12a39",
   "metadata": {
    "ExecuteTime": {
     "end_time": "2023-12-10T04:09:31.061013Z",
     "start_time": "2023-12-10T04:09:31.045722Z"
    }
   },
   "outputs": [],
   "source": [
    "from IPython.display import Image"
   ]
  },
  {
   "cell_type": "markdown",
   "id": "1a23d2a6",
   "metadata": {},
   "source": [
    "## dijkstra 算法"
   ]
  },
  {
   "cell_type": "code",
   "execution_count": 14,
   "id": "475c9a31",
   "metadata": {
    "ExecuteTime": {
     "end_time": "2023-12-10T04:32:08.610993Z",
     "start_time": "2023-12-10T04:32:08.601058Z"
    }
   },
   "outputs": [
    {
     "data": {
      "text/html": [
       "<img src=\"../imgs/dijkstra_graph.png\" width=\"400\"/>"
      ],
      "text/plain": [
       "<IPython.core.display.Image object>"
      ]
     },
     "execution_count": 14,
     "metadata": {},
     "output_type": "execute_result"
    }
   ],
   "source": [
    "Image(url='../imgs/dijkstra_graph.png', width=400)"
   ]
  },
  {
   "cell_type": "markdown",
   "id": "010d1272",
   "metadata": {},
   "source": [
    "- Principal of optimality\n",
    "    - 如果 `s -> u -> v -> t` 是 s 到 t 的最短路径，则 u -> v 就是 u -> v 的最短路径；\n",
    "\n",
    "- 基本概念及定义\n",
    "    - $s$：source node\n",
    "    - $w_{uv}$：distance between nodes u and v，$w_{uv}\\geq 0$\n",
    "    - $d_v$: path length from $s$ to $v$\n",
    "    - nodes\n",
    "        - permanent nodes: shortest path lengths\n",
    "        - temporary nodes: upper bounds\n",
    "\n",
    "- 算法\n",
    "    - step 1：\n",
    "        - make all nodes as temporary\n",
    "        - assign $d_v=\\infty, v \\neq s$；$d_s=0$ \n",
    "    - step 2：\n",
    "        - choose a temporary node $u$ with the smallest path length;\n",
    "        - mark $u$ as permanent\n",
    "        - $d_v=\\min(d_v, d_u+w_{uv})$ for every temporary node $v$ adjacent to $u$;\n",
    "    - step 3:\n",
    "        - if no temporary nodes left, STOP;\n",
    "        - otherwise goto step 2;"
   ]
  },
  {
   "cell_type": "code",
   "execution_count": 6,
   "id": "1058d253",
   "metadata": {
    "ExecuteTime": {
     "end_time": "2023-12-10T04:22:24.685692Z",
     "start_time": "2023-12-10T04:22:24.674473Z"
    }
   },
   "outputs": [
    {
     "data": {
      "text/plain": [
       "[0, 1, 2, 3, 4, 5]"
      ]
     },
     "execution_count": 6,
     "metadata": {},
     "output_type": "execute_result"
    }
   ],
   "source": [
    "nodes = list(range(6))\n",
    "nodes"
   ]
  },
  {
   "cell_type": "code",
   "execution_count": 8,
   "id": "b41b6250",
   "metadata": {
    "ExecuteTime": {
     "end_time": "2023-12-10T04:24:28.673102Z",
     "start_time": "2023-12-10T04:24:28.664992Z"
    }
   },
   "outputs": [],
   "source": [
    "edges = {(0, 1): 1., (0, 2): 1.5, (0, 3): 2., \n",
    "         (1, 3): 0.5, (1, 4): 2.5, \n",
    "         (2, 3): 1.5, (3, 5): 1., (4, 5): 2.0}"
   ]
  },
  {
   "cell_type": "code",
   "execution_count": 11,
   "id": "54044f8c",
   "metadata": {
    "ExecuteTime": {
     "end_time": "2023-12-10T04:30:03.462172Z",
     "start_time": "2023-12-10T04:30:03.451728Z"
    }
   },
   "outputs": [
    {
     "data": {
      "text/plain": [
       "(1, 3)"
      ]
     },
     "execution_count": 11,
     "metadata": {},
     "output_type": "execute_result"
    }
   ],
   "source": [
    "min(edges, key=edges.get)"
   ]
  },
  {
   "cell_type": "code",
   "execution_count": 12,
   "id": "a6f08da9",
   "metadata": {
    "ExecuteTime": {
     "end_time": "2023-12-10T04:31:42.124645Z",
     "start_time": "2023-12-10T04:31:42.112261Z"
    }
   },
   "outputs": [],
   "source": [
    "def dijkstra(nodes, edges, s=0):\n",
    "    d_v = {v: float('inf') for v in nodes}\n",
    "    d_v[s] = 0\n",
    "    adj_nodes = {v: {} for v in nodes}\n",
    "    for (u, v), w_uv in edges.items():\n",
    "        adj_nodes[u][v] = w_uv\n",
    "        adj_nodes[v][u] = w_uv\n",
    "    print(adj_nodes)\n",
    "    # 拷贝而非引用\n",
    "    temporary_nodes = [v for v in nodes]\n",
    "    while temporary_nodes:\n",
    "        # upper bounds\n",
    "        ub = {v: d_v[v] for v in temporary_nodes}\n",
    "        # 最小 value 对应的key，argmin\n",
    "        u = min(ub, key=ub.get)\n",
    "        temporary_nodes.remove(u)\n",
    "        for v, w_uv in adj_nodes[u].items():\n",
    "            d_v[v] = min(d_v[v], d_v[u] + w_uv)\n",
    "    return d_v"
   ]
  },
  {
   "cell_type": "code",
   "execution_count": 13,
   "id": "b018e308",
   "metadata": {
    "ExecuteTime": {
     "end_time": "2023-12-10T04:31:54.700499Z",
     "start_time": "2023-12-10T04:31:54.691786Z"
    }
   },
   "outputs": [
    {
     "name": "stdout",
     "output_type": "stream",
     "text": [
      "{0: {1: 1.0, 2: 1.5, 3: 2.0}, 1: {0: 1.0, 3: 0.5, 4: 2.5}, 2: {0: 1.5, 3: 1.5}, 3: {0: 2.0, 1: 0.5, 2: 1.5, 5: 1.0}, 4: {1: 2.5, 5: 2.0}, 5: {3: 1.0, 4: 2.0}}\n"
     ]
    },
    {
     "data": {
      "text/plain": [
       "{0: 0, 1: 1.0, 2: 1.5, 3: 1.5, 4: 3.5, 5: 2.5}"
      ]
     },
     "execution_count": 13,
     "metadata": {},
     "output_type": "execute_result"
    }
   ],
   "source": [
    "dijkstra(nodes, edges)"
   ]
  },
  {
   "cell_type": "code",
   "execution_count": 15,
   "id": "5848d8d5",
   "metadata": {
    "ExecuteTime": {
     "end_time": "2023-12-10T04:32:14.567537Z",
     "start_time": "2023-12-10T04:32:14.557436Z"
    }
   },
   "outputs": [
    {
     "data": {
      "text/html": [
       "<img src=\"../imgs/dijkstra_graph.png\" width=\"400\"/>"
      ],
      "text/plain": [
       "<IPython.core.display.Image object>"
      ]
     },
     "execution_count": 15,
     "metadata": {},
     "output_type": "execute_result"
    }
   ],
   "source": [
    "Image(url='../imgs/dijkstra_graph.png', width=400)"
   ]
  }
 ],
 "metadata": {
  "kernelspec": {
   "display_name": "Python 3 (ipykernel)",
   "language": "python",
   "name": "python3"
  },
  "language_info": {
   "codemirror_mode": {
    "name": "ipython",
    "version": 3
   },
   "file_extension": ".py",
   "mimetype": "text/x-python",
   "name": "python",
   "nbconvert_exporter": "python",
   "pygments_lexer": "ipython3",
   "version": "3.10.13"
  },
  "toc": {
   "base_numbering": 1,
   "nav_menu": {},
   "number_sections": true,
   "sideBar": true,
   "skip_h1_title": false,
   "title_cell": "Table of Contents",
   "title_sidebar": "Contents",
   "toc_cell": false,
   "toc_position": {},
   "toc_section_display": true,
   "toc_window_display": false
  }
 },
 "nbformat": 4,
 "nbformat_minor": 5
}
